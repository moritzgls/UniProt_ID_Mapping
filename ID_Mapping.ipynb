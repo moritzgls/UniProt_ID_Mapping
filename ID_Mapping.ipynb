{
 "cells": [
  {
   "cell_type": "code",
   "execution_count": null,
   "metadata": {},
   "outputs": [],
   "source": [
    "import pandas as pd\n",
    "import re\n",
    "\n",
    "# Loading the dataset, insert your file path here:\n",
    "mapping = pd.read_csv(\"/YOUR_PATH/HUMAN_9606_idmapping_selected.tab\", delimiter=\"\\t\")"
   ]
  },
  {
   "cell_type": "code",
   "execution_count": null,
   "metadata": {},
   "outputs": [],
   "source": [
    "# format column 19 (containing ENST IDs) as string\n",
    "mapping.iloc[:, 19] = mapping.iloc[:, 19].astype(str)\n",
    "\n",
    "# create dictionary\n",
    "dictionary = dict()\n",
    "\n",
    "# iterate trough mapping table\n",
    "for index, row in mapping.iterrows():\n",
    "    # split multiple ENST IDs in one cell\n",
    "    values_1 = row.iloc[19].split(';')  # Splitting keys if they are delimited by ';'\n",
    "    \n",
    "    # create new empty list to read in single ENST IDs without transcript versions (\"\".12\")\n",
    "    values_2 = []\n",
    "\n",
    "    # iterate trough splitted ENST IDs with transcript versions\n",
    "    for item in values_1:\n",
    "        # replace version suffix with nothing (\"\")\n",
    "        item = re.sub(\"\\.\\d+\", '', item)\n",
    "        values_2.append(item)\n",
    "    # set key to UniProt ID (1. column of mapping)\n",
    "    key = row.iloc[0]\n",
    "\n",
    "    # set values of corresponding UniProt ID to the list of (cropped) ENST Transcript IDs\n",
    "    dictionary[key] = values_2"
   ]
  },
  {
   "cell_type": "code",
   "execution_count": null,
   "metadata": {},
   "outputs": [],
   "source": [
    "# print out for validation\n",
    "for key in dictionary:\n",
    "    print(f\"Key: {key}, Value: {dictionary[key]}\")"
   ]
  },
  {
   "cell_type": "code",
   "execution_count": 5,
   "metadata": {},
   "outputs": [],
   "source": [
    "# save python dictionary as json using .dump function\n",
    "import json\n",
    "with open('/YOUR_PATH/id_mapping.json', 'w') as file:\n",
    "    json.dump(dictionary, file)"
   ]
  }
 ],
 "metadata": {
  "kernelspec": {
   "display_name": "base",
   "language": "python",
   "name": "python3"
  },
  "language_info": {
   "codemirror_mode": {
    "name": "ipython",
    "version": 3
   },
   "file_extension": ".py",
   "mimetype": "text/x-python",
   "name": "python",
   "nbconvert_exporter": "python",
   "pygments_lexer": "ipython3",
   "version": "3.11.4"
  }
 },
 "nbformat": 4,
 "nbformat_minor": 2
}
